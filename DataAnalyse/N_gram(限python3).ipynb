{
 "cells": [
  {
   "cell_type": "markdown",
   "metadata": {},
   "source": [
    "## N-GRAM表示法"
   ]
  },
  {
   "cell_type": "code",
   "execution_count": 3,
   "metadata": {
    "collapsed": true
   },
   "outputs": [],
   "source": [
    "sentence = \"臺北藝術大學\"\n",
    "b = \"臺北當代藝術館\"\n",
    "c = \"臺北市立美術館\"\n",
    "d = \"國立臺灣藝術教育館\"\n",
    "e = \"臺北市立天文科學教育館\""
   ]
  },
  {
   "cell_type": "code",
   "execution_count": 4,
   "metadata": {
    "collapsed": false
   },
   "outputs": [],
   "source": [
    "def list2freqdict(mylist):#要先算出漢字的頻率分布。我們先定義一個function，input是個list，output是個dictionary：\n",
    "    mydict=dict()\n",
    "    for ch in mylist:\n",
    "        if ch == dict:\n",
    "            mydict[ch]=mydict.get(ch,0)\n",
    "        else:\n",
    "            mydict[ch]=mydict.get(ch,0)+1\n",
    "    return mydict\n",
    "\n",
    "\n",
    "def list2bigram(mylist):#把每個字與下個字塞入mylist[],此為2_gram\n",
    "    return [mylist[i:i+2] for i in range(0,len(mylist)-1)]\n",
    "\n",
    "def list2trigram(mylist):#把每個字與下兩個字塞入mylist[],此為3_gram\n",
    "    return [mylist[i:i+3] for i in range(0,len(mylist)-2)]\n",
    "\n",
    "def list2fourgram(mylist):#把每個字與下兩個字塞入mylist[],此為4_gram\n",
    "    return [mylist[i:i+4] for i in range(0,len(mylist)-3)]\n",
    "\n",
    "def bigram2freqdict(mybigram):#算出每個2_gram的出現次數\n",
    "    mydict=dict()\n",
    "    for (ch1,ch2) in mybigram:\n",
    "        mydict[(ch1,ch2)]=mydict.get((ch1,ch2),0)+1\n",
    "    return mydict\n",
    "\n",
    "def trigram2freqdict(mytrigram):#算出每個3_gram的出現次數\n",
    "    mydict=dict()\n",
    "    for (ch1,ch2,ch3) in mytrigram:\n",
    "        mydict[(ch1,ch2,ch3)]=mydict.get((ch1,ch2,ch3),0)+1\n",
    "    return mydict\n",
    "\n",
    "def fourgram2freqdict(mytrigram):#算出每個3_gram的出現次數\n",
    "    mydict=dict()\n",
    "    for (ch1,ch2,ch3,ch4) in mytrigram:\n",
    "        mydict[(ch1,ch2,ch3,ch4)]=mydict.get((ch1,ch2,ch3,ch4),0)+1\n",
    "    return mydict\n",
    "\n",
    "def freq2report(freqlist):#顯示出結果\n",
    "    chs=str()\n",
    "    print('Char(s)\\tCount')\n",
    "    print('=============')\n",
    "    for (token,num) in freqlist:\n",
    "        for ch in token:\n",
    "            chs=chs+ch\n",
    "        print(chs,'\\t',num)\n",
    "        chs=''\n",
    "    return"
   ]
  },
  {
   "cell_type": "code",
   "execution_count": 5,
   "metadata": {
    "collapsed": false
   },
   "outputs": [
    {
     "name": "stdout",
     "output_type": "stream",
     "text": [
      "Char(s)\tCount\n",
      "=============\n",
      "('\\xe8\\xa1\\x93', '\\t', 1)\n",
      "('\\xe5\\x8c\\x97', '\\t', 1)\n",
      "('\\x93\\xe5\\xa4', '\\t', 1)\n",
      "('\\x97\\x9d\\xe8', '\\t', 1)\n",
      "('\\xba\\xe5\\x8c', '\\t', 1)\n",
      "('\\xe8\\x97\\x9d', '\\t', 1)\n",
      "('\\xe8\\x87\\xba', '\\t', 1)\n",
      "('\\xa4\\xa7\\xe5', '\\t', 1)\n",
      "('\\xa1\\x93\\xe5', '\\t', 1)\n",
      "('\\x97\\xe8\\x97', '\\t', 1)\n",
      "('\\x9d\\xe8\\xa1', '\\t', 1)\n",
      "('\\x8c\\x97\\xe8', '\\t', 1)\n",
      "('\\xa7\\xe5\\xad', '\\t', 1)\n",
      "('\\xe5\\xad\\xb8', '\\t', 1)\n",
      "('\\xe5\\xa4\\xa7', '\\t', 1)\n",
      "('\\x87\\xba\\xe5', '\\t', 1)\n",
      "Char(s)\tCount\n",
      "=============\n",
      "('\\x97\\x9d\\xe8\\xa1', '\\t', 1)\n",
      "('\\x9d\\xe8\\xa1\\x93', '\\t', 1)\n",
      "('\\xa1\\x93\\xe5\\xa4', '\\t', 1)\n",
      "('\\xe5\\xa4\\xa7\\xe5', '\\t', 1)\n",
      "('\\xa4\\xa7\\xe5\\xad', '\\t', 1)\n",
      "('\\x93\\xe5\\xa4\\xa7', '\\t', 1)\n",
      "('\\xa7\\xe5\\xad\\xb8', '\\t', 1)\n",
      "('\\xe5\\x8c\\x97\\xe8', '\\t', 1)\n",
      "('\\xba\\xe5\\x8c\\x97', '\\t', 1)\n",
      "('\\x97\\xe8\\x97\\x9d', '\\t', 1)\n",
      "('\\xe8\\x87\\xba\\xe5', '\\t', 1)\n",
      "('\\xe8\\xa1\\x93\\xe5', '\\t', 1)\n",
      "('\\x87\\xba\\xe5\\x8c', '\\t', 1)\n",
      "('\\xe8\\x97\\x9d\\xe8', '\\t', 1)\n",
      "('\\x8c\\x97\\xe8\\x97', '\\t', 1)\n"
     ]
    }
   ],
   "source": [
    "from operator import itemgetter\n",
    "\n",
    "\n",
    "chlist=[ch for ch in sentence]#每個字都分開塞入chlist\n",
    "chfreqdict = list2freqdict(chlist)#算出每個字所出現的字數\n",
    "chfreqsorted=sorted(chfreqdict.items(), key=itemgetter(1), reverse=True)#排序 出現最多的字排最前面\n",
    "#把每個字與下個字塞入mylist[]\n",
    "chbigram = list2bigram(chlist)\n",
    "chtrigram = list2trigram(chlist)\n",
    "fourgram = list2fourgram(chlist)\n",
    "#算出每個gram的出現次數\n",
    "bigramfreqdict = bigram2freqdict(chbigram)\n",
    "trigramfreqdict = trigram2freqdict(chtrigram)\n",
    "fourgramfreqdict = fourgram2freqdict(fourgram)\n",
    "\n",
    "bigramfreqsorted = sorted(bigramfreqdict.items(), key=itemgetter(1), reverse=True)\n",
    "trigramfreqsorted = sorted(trigramfreqdict.items(), key=itemgetter(1), reverse=True)\n",
    "fourgramfreqsorted = sorted(fourgramfreqdict.items(), key=itemgetter(1), reverse=True)\n",
    "\n",
    "#freq2report(chfreqsorted)\n",
    "#freq2report(bigramfreqsorted)\n",
    "freq2report(trigramfreqsorted)\n",
    "freq2report(fourgramfreqsorted)\n"
   ]
  }
 ],
 "metadata": {
  "kernelspec": {
   "display_name": "Python 2",
   "language": "python",
   "name": "python2"
  },
  "language_info": {
   "codemirror_mode": {
    "name": "ipython",
    "version": 2
   },
   "file_extension": ".py",
   "mimetype": "text/x-python",
   "name": "python",
   "nbconvert_exporter": "python",
   "pygments_lexer": "ipython2",
   "version": "2.7.11"
  }
 },
 "nbformat": 4,
 "nbformat_minor": 0
}
